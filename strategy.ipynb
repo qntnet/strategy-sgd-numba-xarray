{
 "cells": [
  {
   "cell_type": "markdown",
   "metadata": {},
   "source": [
    "# SGD Linear Regression with numpy and numba"
   ]
  },
  {
   "cell_type": "markdown",
   "metadata": {},
   "source": [
    "# Initialization"
   ]
  },
  {
   "cell_type": "code",
   "execution_count": null,
   "metadata": {},
   "outputs": [],
   "source": [
    "import xarray as xr\n",
    "import xarray.ufuncs as xruf\n",
    "import numpy as np\n",
    "import numba as nb\n",
    "import qnt.forward_looking as qnfl\n",
    "\n",
    "from qnt.data import load_data, write_output\n",
    "from qnt.stepper import test_strategy\n",
    "from qnt.stats import calc_stat, print_correlation\n",
    "from qnt.graph import make_plot, make_plot_double, make_plot_filled"
   ]
  },
  {
   "cell_type": "markdown",
   "metadata": {},
   "source": [
    "# Data"
   ]
  },
  {
   "cell_type": "code",
   "execution_count": null,
   "metadata": {
    "scrolled": true
   },
   "outputs": [],
   "source": [
    "data = load_data(\n",
    "    min_date = \"2014-01-01\", \n",
    "    max_date = \"2019-08-13\", # you should not set max_date for final calculations\n",
    "    dims=('time', 'field', 'asset'), \n",
    "    forward_order=True\n",
    ")\n",
    "data.coords"
   ]
  },
  {
   "cell_type": "markdown",
   "metadata": {},
   "source": [
    "# Model"
   ]
  },
  {
   "cell_type": "markdown",
   "metadata": {},
   "source": [
    "If we'll see an increasing price trend, then we decide that:\n",
    "* the next n_days=20 days the price will increase\n",
    "* the weight for the next n_days=20 days will be equated to the tilt sign\n",
    "\n",
    "After n_days=20 days, let's review the previous k_days=100 days, \n",
    "build the regression again and update the weights."
   ]
  },
  {
   "cell_type": "markdown",
   "metadata": {},
   "source": [
    "Let's check for first of k_days=100 prices items. We will normalize it on first price and will rate prices trands with the SGD Regression model."
   ]
  },
  {
   "cell_type": "code",
   "execution_count": null,
   "metadata": {},
   "outputs": [],
   "source": [
    "# this is SGD Regressor implemented with Numba\n",
    "@nb.jitclass([\n",
    "    ('slope', nb.float64),\n",
    "    ('intercept', nb.float64),\n",
    "    ('learning_rate', nb.float64),\n",
    "    ('start_slope', nb.float64),\n",
    "    ('start_intercept', nb.float64),\n",
    "    ('max_iter', nb.float64),\n",
    "])\n",
    "class SGDRegressor(object):\n",
    "\n",
    "    def __init__(self, max_iter):\n",
    "        self.slope = 0\n",
    "        self.intercept = 0\n",
    "        \n",
    "        self.learning_rate = 0.0001\n",
    "        self.start_slope = 0\n",
    "        self.start_intercept = 0\n",
    "        self.max_iter = max_iter\n",
    "    \n",
    "    def fit(self, X_train, y_train):\n",
    "        s_slope = self.start_slope\n",
    "        s_intercept = self.start_intercept\n",
    "        \n",
    "        for i in range(self.max_iter):\n",
    "            int_slope = 0\n",
    "            int_intercept = 0\n",
    "            n_pt = float(len(X_train))\n",
    "            \n",
    "            for i in range(len(X_train)):\n",
    "                int_intercept += - (2/n_pt) * (y_train[i] - ((s_slope * X_train[i]) + s_intercept))\n",
    "                int_slope += - (2/n_pt) * X_train[i] * (y_train[i] - ((s_slope * X_train[i]) + s_intercept))\n",
    "            \n",
    "            final_slope = s_slope - (self.learning_rate * int_slope)\n",
    "            final_intercept = s_intercept - (self.learning_rate * int_intercept)\n",
    "            s_slope = final_slope\n",
    "            s_intercept = final_intercept\n",
    "            \n",
    "            self.slope = s_slope\n",
    "            self.intercept = s_intercept\n"
   ]
  },
  {
   "cell_type": "code",
   "execution_count": null,
   "metadata": {
    "scrolled": false
   },
   "outputs": [],
   "source": [
    "k_days = 100\n",
    "n_days = 20\n",
    "\n",
    "            \n",
    "X = np.arange(k_days)\n",
    "last_weights = xr.DataArray(np.zeros([len(data.asset)]), dims=['asset'], coords={'asset':data.asset})\n",
    "\n",
    "\n",
    "# this is function for output calculation step by step\n",
    "def step(data_slice):\n",
    "    # we will recalculate model every n_days\n",
    "    if (len(data_slice.time) - k_days) % n_days == 0:\n",
    "        last_weights[:] = 0\n",
    "        \n",
    "        for asset in data_slice.asset.values:\n",
    "            prices = data.loc[:, \"close\", asset]\n",
    "            prices = prices.dropna('time') # rm holes from prices\n",
    "            prices = prices[-k_days:] \n",
    "            \n",
    "            if len(prices) == k_days:\n",
    "                y_train = prices.values\n",
    "                y_train = y_train / y_train[-1]\n",
    "                \n",
    "                model = SGDRegressor(max_iter=50)\n",
    "                model.fit(X, y_train)\n",
    "            \n",
    "                last_weights.loc[asset] = np.sign(model.slope)\n",
    "     \n",
    "    is_liquid = data_slice[-1].loc['is_liquid'] > 0\n",
    "\n",
    "    out = last_weights.loc[is_liquid]\n",
    "    out = out / abs(out).sum('asset')\n",
    "    \n",
    "    return out"
   ]
  },
  {
   "cell_type": "markdown",
   "metadata": {},
   "source": [
    "# Backtest"
   ]
  },
  {
   "cell_type": "code",
   "execution_count": null,
   "metadata": {},
   "outputs": [],
   "source": [
    "output = test_strategy(data, step=step)"
   ]
  },
  {
   "cell_type": "markdown",
   "metadata": {},
   "source": [
    "## Stats and plots"
   ]
  },
  {
   "cell_type": "code",
   "execution_count": null,
   "metadata": {
    "scrolled": true
   },
   "outputs": [],
   "source": [
    "stat = calc_stat(data, output, slippage_factor=0.05)\n",
    "display(stat.to_pandas().tail())"
   ]
  },
  {
   "cell_type": "code",
   "execution_count": null,
   "metadata": {},
   "outputs": [],
   "source": [
    "make_plot_filled(stat.coords['time'].to_pandas(), stat.loc[:, 'equity'].values,  color=\"blue\", name=\"PnL (Equity)\", type=\"log\")"
   ]
  },
  {
   "cell_type": "code",
   "execution_count": null,
   "metadata": {},
   "outputs": [],
   "source": [
    "make_plot_filled(stat.coords['time'].to_pandas(), stat.loc[:, 'underwater'].values, color=\"red\", name=\"Underwater Chart\", range_max= 0)"
   ]
  },
  {
   "cell_type": "code",
   "execution_count": null,
   "metadata": {},
   "outputs": [],
   "source": [
    "make_plot_filled(stat.coords['time'].to_pandas(), stat.loc[:, 'sharpe_ratio'].values[20:], color=\"purple\", name=\"Rolling SR\")"
   ]
  },
  {
   "cell_type": "code",
   "execution_count": null,
   "metadata": {
    "scrolled": true
   },
   "outputs": [],
   "source": [
    "make_plot_filled(stat.coords['time'].to_pandas(), stat.loc[:, 'bias'].values, color=\"gray\", name=\"Bias\")"
   ]
  },
  {
   "cell_type": "markdown",
   "metadata": {},
   "source": [
    "# Improvement"
   ]
  },
  {
   "cell_type": "code",
   "execution_count": null,
   "metadata": {},
   "outputs": [],
   "source": [
    "# Well, the sharpe ratio of this strategy is not enough...\n",
    "\n",
    "stat.sel(field='sharpe_ratio').to_pandas().tail()"
   ]
  },
  {
   "cell_type": "code",
   "execution_count": null,
   "metadata": {},
   "outputs": [],
   "source": [
    "# Let's build the output only with \"good\" \"short term\" and \"long term\" Sharpe ratios.\n",
    "# Sharpe ratio is \"good\" when its average more then 0.\n",
    "#\n",
    "# This is only example of a heuristic which can improve you strategy \n",
    "# using statistics per asset. \n",
    "# I believe that you can invent a new better way to do it =)\n",
    "\n",
    "short_term = 43\n",
    "long_term = short_term*3\n",
    "\n",
    "stat_per_asset_short_term = calc_stat(data, output, max_periods=short_term, per_asset = True)\n",
    "stat_per_asset_long_term = calc_stat(data, output, max_periods=long_term, per_asset = True)\n",
    "\n",
    "avg_short_term_sr = stat_per_asset_short_term.sel(field='sharpe_ratio')\\\n",
    "    .rolling(time=short_term, min_periods=short_term*19//20)\\\n",
    "    .mean() # min periods allows to pass small holes in data\n",
    "avg_long_term_sr = stat_per_asset_long_term.sel(field='sharpe_ratio')\\\n",
    "    .rolling(time=long_term, min_periods=long_term*19//20)\\\n",
    "    .mean()\n",
    "\n",
    "output2 = output\n",
    "output2 = output2.where(avg_short_term_sr > 0)\n",
    "output2 = output2.where(avg_long_term_sr > 0)\n",
    "output2 = output2 / abs(output2).sum('asset')"
   ]
  },
  {
   "cell_type": "code",
   "execution_count": null,
   "metadata": {},
   "outputs": [],
   "source": [
    "# print stats\n",
    "\n",
    "stat2 = calc_stat(data, output2)\n",
    "\n",
    "print(\"Old stats:\")\n",
    "print(\"-\\n3y SR:\")\n",
    "print(stat.sel(field='sharpe_ratio').to_pandas().tail())\n",
    "\n",
    "print(\"---\")\n",
    "\n",
    "print(\"New stats:\")\n",
    "print(\"-\\n3y SR:\")\n",
    "print(stat2.sel(field='sharpe_ratio').to_pandas().tail())\n"
   ]
  },
  {
   "cell_type": "markdown",
   "metadata": {},
   "source": [
    "# Checks"
   ]
  },
  {
   "cell_type": "code",
   "execution_count": null,
   "metadata": {},
   "outputs": [],
   "source": [
    "# Use the function from 'qnfl' ensures that no forward-looking\n",
    "# is taking place.\n",
    "def strategy():\n",
    "    \"\"\"\n",
    "    Entire code for strategy output calculation.\n",
    "    \"\"\"\n",
    "    #load data\n",
    "    data = load_data(\n",
    "        min_date = \"2014-01-01\", \n",
    "        # max_date = \"2019-08-13\", # you should not set max_date for final calculations\n",
    "        dims=('time', 'field', 'asset'), \n",
    "        forward_order=True\n",
    "    )\n",
    "    \n",
    "    #calc output\n",
    "    global last_weights\n",
    "    last_weights = xr.DataArray(np.zeros([len(data.asset)]), dims=['asset'], coords={'asset':data.asset})\n",
    "    output1 = test_strategy(data, step=step)\n",
    "\n",
    "    #improve output with statistic per asset\n",
    "    short_term = 43\n",
    "    long_term = short_term*3\n",
    "\n",
    "    stat_per_asset_short_term = calc_stat(data, output1, max_periods=short_term, per_asset = True)\n",
    "    stat_per_asset_long_term = calc_stat(data, output1, max_periods=long_term, per_asset = True)\n",
    "\n",
    "    avg_short_term_sr = stat_per_asset_short_term.sel(field='sharpe_ratio')\\\n",
    "        .rolling(time=short_term, min_periods=short_term*19//20)\\\n",
    "        .mean() # min periods allows to pass small holes in data\n",
    "    avg_long_term_sr = stat_per_asset_long_term.sel(field='sharpe_ratio')\\\n",
    "        .rolling(time=long_term, min_periods=long_term*19//20)\\\n",
    "        .mean()\n",
    "\n",
    "    output2 = output1\n",
    "    output2 = output2.where(avg_short_term_sr > 0)\n",
    "    output2 = output2.where(avg_long_term_sr > 0)\n",
    "    output2 = output2 / abs(output2).sum('asset')\n",
    "\n",
    "    return output2\n",
    "\n",
    "# This function runs strategy twice on the different periods: \n",
    "# the entire data and data the with a cropped last half year.\n",
    "# After that this function compares outputs. \n",
    "# Overlapped outputs must be same.\n",
    "output_final = qnfl.load_data_calc_output_and_check_forward_looking(strategy)"
   ]
  },
  {
   "cell_type": "code",
   "execution_count": null,
   "metadata": {},
   "outputs": [],
   "source": [
    "print_correlation(output_final, data)"
   ]
  },
  {
   "cell_type": "markdown",
   "metadata": {},
   "source": [
    "# Submit"
   ]
  },
  {
   "cell_type": "code",
   "execution_count": null,
   "metadata": {},
   "outputs": [],
   "source": [
    "write_output(output_final)"
   ]
  },
  {
   "cell_type": "markdown",
   "metadata": {},
   "source": [
    "Finally, you can submit only the necessary code excluding graphs and checks. The minimal code is:"
   ]
  },
  {
   "cell_type": "code",
   "execution_count": null,
   "metadata": {},
   "outputs": [],
   "source": [
    "import xarray as xr\n",
    "import xarray.ufuncs as xruf\n",
    "import numpy as np\n",
    "import numba as nb\n",
    "import qnt.forward_looking as qnfl\n",
    "\n",
    "from qnt.data import load_data, write_output\n",
    "from qnt.stepper import test_strategy\n",
    "from qnt.stats import calc_stat\n",
    "\n",
    "@nb.jitclass([\n",
    "    ('slope', nb.float64),\n",
    "    ('intercept', nb.float64),\n",
    "    ('learning_rate', nb.float64),\n",
    "    ('start_slope', nb.float64),\n",
    "    ('start_intercept', nb.float64),\n",
    "    ('max_iter', nb.float64),\n",
    "])\n",
    "class SGDRegressor(object):\n",
    "\n",
    "    def __init__(self, max_iter):\n",
    "        self.slope = 0\n",
    "        self.intercept = 0\n",
    "        \n",
    "        self.learning_rate = 0.0001\n",
    "        self.start_slope = 0\n",
    "        self.start_intercept = 0\n",
    "        self.max_iter = max_iter\n",
    "    \n",
    "    def fit(self, X_train, y_train):\n",
    "        s_slope = self.start_slope\n",
    "        s_intercept = self.start_intercept\n",
    "        \n",
    "        for i in range(self.max_iter):\n",
    "            int_slope = 0\n",
    "            int_intercept = 0\n",
    "            n_pt = float(len(X_train))\n",
    "            \n",
    "            for i in range(len(X_train)):\n",
    "                int_intercept += - (2/n_pt) * (y_train[i] - ((s_slope * X_train[i]) + s_intercept))\n",
    "                int_slope += - (2/n_pt) * X_train[i] * (y_train[i] - ((s_slope * X_train[i]) + s_intercept))\n",
    "            \n",
    "            final_slope = s_slope - (self.learning_rate * int_slope)\n",
    "            final_intercept = s_intercept - (self.learning_rate * int_intercept)\n",
    "            s_slope = final_slope\n",
    "            s_intercept = final_intercept\n",
    "            \n",
    "            self.slope = s_slope\n",
    "            self.intercept = s_intercept\n",
    "\n",
    "            \n",
    "data = load_data(\n",
    "    min_date = \"2014-01-01\", \n",
    "    # max_date = \"2019-08-13\", # you should not set max_date for final calculations\n",
    "    dims=('time', 'field', 'asset'), \n",
    "    forward_order=True\n",
    ")\n",
    "            \n",
    "            \n",
    "k_days = 100\n",
    "n_days = 20\n",
    "\n",
    "            \n",
    "X = np.arange(k_days)\n",
    "last_weights = xr.DataArray(np.zeros([len(data.asset)]), dims=['asset'], coords={'asset':data.asset})\n",
    "\n",
    "\n",
    "# this is function for output calculation step by step\n",
    "def step(data_slice):\n",
    "    # we will recalculate model every n_days\n",
    "    if (len(data_slice.time) - k_days) % n_days == 0:\n",
    "        last_weights[:] = 0\n",
    "        \n",
    "        for asset in data_slice.asset.values:\n",
    "            prices = data.loc[:, \"close\", asset]\n",
    "            prices = prices.dropna('time') # rm holes from prices\n",
    "            prices = prices[-k_days:] \n",
    "            \n",
    "            if len(prices) == k_days:\n",
    "                y_train = prices.values\n",
    "                y_train = y_train / y_train[-1]\n",
    "                \n",
    "                model = SGDRegressor(max_iter=50)\n",
    "                model.fit(X, y_train)\n",
    "            \n",
    "                last_weights.loc[asset] = np.sign(model.slope)\n",
    "     \n",
    "    is_liquid = data_slice[-1].loc['is_liquid'] > 0\n",
    "\n",
    "    out = last_weights.loc[is_liquid]\n",
    "    out = out / abs(out).sum('asset')\n",
    "    \n",
    "    return out\n",
    "\n",
    "output = test_strategy(data, step=step)\n",
    "\n",
    "write_output(output_final)"
   ]
  },
  {
   "cell_type": "code",
   "execution_count": null,
   "metadata": {},
   "outputs": [],
   "source": []
  }
 ],
 "metadata": {
  "kernelspec": {
   "display_name": "Python 3",
   "language": "python",
   "name": "python3"
  },
  "language_info": {
   "codemirror_mode": {
    "name": "ipython",
    "version": 3
   },
   "file_extension": ".py",
   "mimetype": "text/x-python",
   "name": "python",
   "nbconvert_exporter": "python",
   "pygments_lexer": "ipython3",
   "version": "3.7.3"
  }
 },
 "nbformat": 4,
 "nbformat_minor": 2
}
